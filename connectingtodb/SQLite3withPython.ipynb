{
 "cells": [
  {
   "cell_type": "markdown",
   "metadata": {},
   "source": [
    "## 1. Install SQLite3\n",
    "\n",
    "#### On Windows\n",
    "Download the SQLite command line tools from http://www.sqlite.org/download.html, using the sqlite-tools link in the \"Precompiled Binaries For Windows\" section. This will download a directory containing several executables, including sqlite3.exe.\n",
    "Copy sqlite3.exe into your jeopardy folder.\n",
    "\n",
    "#### On OSX\n",
    "You already have SQLite installed and don't have to do anything!\n",
    "\n",
    "#### On Linux\n",
    "Install the sqlite3 package through your package manager.\n",
    "\n",
    "## 2. Create a SQLite database from the database dump\n",
    "\n",
    "Download jeopardy.dump\n",
    "\n",
    "#### pass this command to load the dump"
   ]
  },
  {
   "cell_type": "raw",
   "metadata": {},
   "source": [
    "sqlite3 jeopardy.db < jeopardy.dump"
   ]
  },
  {
   "cell_type": "markdown",
   "metadata": {},
   "source": [
    "## 3. Test your setup \n",
    "\n",
    "At a terminal, start sqlite3 using the jeopardy.db database by running:"
   ]
  },
  {
   "cell_type": "raw",
   "metadata": {},
   "source": [
    "> sqlite3 jeopardy.db "
   ]
  },
  {
   "cell_type": "markdown",
   "metadata": {},
   "source": [
    "YOu will get below response "
   ]
  },
  {
   "cell_type": "raw",
   "metadata": {},
   "source": [
    "SQLite version 3.13.0 2016-05-18 10:57:30\n",
    "Enter \".help\" for usage hints.\n",
    "sqlite>"
   ]
  },
  {
   "cell_type": "markdown",
   "metadata": {},
   "source": [
    "## 4. Play with SQLite3"
   ]
  },
  {
   "cell_type": "raw",
   "metadata": {},
   "source": [
    "SQLite version 3.13.0 2016-05-18 10:57:30\n",
    "Enter \".help\" for usage hints.\n",
    "sqlite> .tables\n",
    "category  clue\n",
    "\n",
    "\n",
    "sqlite> .schema clue\n",
    "CREATE TABLE `clue` (\n",
    "  `id` INTEGER NOT NULL PRIMARY KEY,\n",
    "  `text` varchar(255) NOT NULL,\n",
    "  `game` INTEGER NOT NULL,\n",
    "  `category` INTEGER NOT NULL,\n",
    "  `value` INTEGER DEFAULT NULL,\n",
    "  `answer` varchar(255) NOT NULL,\n",
    "  `isDD` INTEGER NOT NULL,\n",
    "  `pickIndex` INTEGER DEFAULT NULL\n",
    ");\n",
    "\n",
    "\n",
    "sqlite> select count(*) from clue;\n",
    "130369\n",
    "sqlite> select * from clue limit 10;\n",
    "1|The original author’s last story about this detective was “The Adventure of Shoscombe Old Place”|1|1|200|Sherlock Holmes|0|1\n",
    "2|In “The Big Sleep” he says, “I’m 33 years old, went to college once & can still speak English if there’s any demand for it”|1|1|400|Marlowe|0|2\n",
    "3|In the April 1841 Graham’s Lady’s and Gentleman’s Magazine, this editor published his new detective story|1|1|600|Poe|0|3\n",
    "4|Let's all flock to read Psalm 95, in which humans are compared to these animals|2|2|200|sheep|0|1\n",
    "5|Some say the screech owl in the King James Bible is Lilith, the name given his legendary first wife|2|2|400|Adam|0|2\n",
    "6|She also created the detectives Tuppence & Tommy Beresford|1|1|800|Agatha Christie|0|4\n",
    "7|If you’re rowin’ the Rhone from start to finish, you begin in this mountain range|5|4|200|the Alps|0|11\n",
    "8|As the Mayan god of merchants, Ek Chuah was responsible for this yummy bean, once the standard Mayan currency|3|5|200|Cacao bean|0|4\n",
    "9|Hagar, carrying this man's baby, fled into the desert after harsh treatment from his wife|2|2|600|Abraham|0|3\n",
    "10|According to this Old Testament book, this \"swords into plowshares\" prophet walked naked for 3 years|2|2|800|Isaiah|0|6\n",
    "sqlite>"
   ]
  },
  {
   "cell_type": "markdown",
   "metadata": {},
   "source": [
    "## 5. Connecting SQLite3 from Python"
   ]
  },
  {
   "cell_type": "code",
   "execution_count": 2,
   "metadata": {},
   "outputs": [
    {
     "name": "stdout",
     "output_type": "stream",
     "text": [
      "<class 'sqlite3.Connection'>\n",
      "['DataError', 'DatabaseError', 'Error', 'IntegrityError', 'InterfaceError', 'InternalError', 'NotSupportedError', 'OperationalError', 'ProgrammingError', 'Warning', '__call__', '__class__', '__delattr__', '__dir__', '__doc__', '__enter__', '__eq__', '__exit__', '__format__', '__ge__', '__getattribute__', '__gt__', '__hash__', '__init__', '__init_subclass__', '__le__', '__lt__', '__ne__', '__new__', '__reduce__', '__reduce_ex__', '__repr__', '__setattr__', '__sizeof__', '__str__', '__subclasshook__', 'close', 'commit', 'create_aggregate', 'create_collation', 'create_function', 'cursor', 'execute', 'executemany', 'executescript', 'in_transaction', 'interrupt', 'isolation_level', 'iterdump', 'rollback', 'row_factory', 'set_authorizer', 'set_progress_handler', 'set_trace_callback', 'text_factory', 'total_changes']\n"
     ]
    }
   ],
   "source": [
    "# import sqlite3 library \n",
    "import sqlite3\n",
    "\n",
    "# connect to jeopardy.db\n",
    "connection = sqlite3.connect('jeopardy.db')\n",
    "\n",
    "#check the available function for connection \n",
    "print(type(connection))\n",
    "print(dir(connection))\n",
    "\n"
   ]
  },
  {
   "cell_type": "code",
   "execution_count": 3,
   "metadata": {},
   "outputs": [
    {
     "data": {
      "text/plain": [
       "['__class__',\n",
       " '__delattr__',\n",
       " '__dir__',\n",
       " '__doc__',\n",
       " '__eq__',\n",
       " '__format__',\n",
       " '__ge__',\n",
       " '__getattribute__',\n",
       " '__gt__',\n",
       " '__hash__',\n",
       " '__init__',\n",
       " '__init_subclass__',\n",
       " '__iter__',\n",
       " '__le__',\n",
       " '__lt__',\n",
       " '__ne__',\n",
       " '__new__',\n",
       " '__next__',\n",
       " '__reduce__',\n",
       " '__reduce_ex__',\n",
       " '__repr__',\n",
       " '__setattr__',\n",
       " '__sizeof__',\n",
       " '__str__',\n",
       " '__subclasshook__',\n",
       " 'arraysize',\n",
       " 'close',\n",
       " 'connection',\n",
       " 'description',\n",
       " 'execute',\n",
       " 'executemany',\n",
       " 'executescript',\n",
       " 'fetchall',\n",
       " 'fetchmany',\n",
       " 'fetchone',\n",
       " 'lastrowid',\n",
       " 'row_factory',\n",
       " 'rowcount',\n",
       " 'setinputsizes',\n",
       " 'setoutputsize']"
      ]
     },
     "execution_count": 3,
     "metadata": {},
     "output_type": "execute_result"
    }
   ],
   "source": [
    "# cursor \n",
    "cursor = connection.cursor()\n",
    "\n",
    "# available functions on cursor \n",
    "dir(cursor)"
   ]
  },
  {
   "cell_type": "code",
   "execution_count": 13,
   "metadata": {},
   "outputs": [
    {
     "data": {
      "text/plain": [
       "<sqlite3.Cursor at 0x10868db90>"
      ]
     },
     "execution_count": 13,
     "metadata": {},
     "output_type": "execute_result"
    }
   ],
   "source": [
    "# execute query \n",
    "cursor.execute(\"SELECT id, answer FROM clue LIMIT 20\")"
   ]
  },
  {
   "cell_type": "code",
   "execution_count": 14,
   "metadata": {},
   "outputs": [
    {
     "name": "stdout",
     "output_type": "stream",
     "text": [
      "[(1, 'Sherlock Holmes'), (2, 'Marlowe'), (3, 'Poe'), (4, 'sheep'), (5, 'Adam'), (6, 'Agatha Christie'), (7, 'the Alps'), (8, 'Cacao bean'), (9, 'Abraham'), (10, 'Isaiah'), (11, 'Adam Dalgliesh'), (12, 'Potiphar'), (13, 'Tokyo'), (14, 'India'), (15, 'Haiti'), (16, 'Finding Nemo'), (17, 'Muhammad'), (18, 'Sean Combs'), (19, 'Brooklyn'), (20, 'the Yellow River')]\n"
     ]
    }
   ],
   "source": [
    "# fetch the records \n",
    "results = cursor.fetchall()\n",
    "print(results)"
   ]
  },
  {
   "cell_type": "code",
   "execution_count": 17,
   "metadata": {},
   "outputs": [
    {
     "name": "stdout",
     "output_type": "stream",
     "text": [
      "id --> name\n",
      "----------------\n",
      "1 --> Sherlock Holmes\n",
      "2 --> Marlowe\n",
      "3 --> Poe\n",
      "4 --> sheep\n",
      "5 --> Adam\n",
      "6 --> Agatha Christie\n",
      "7 --> the Alps\n",
      "8 --> Cacao bean\n",
      "9 --> Abraham\n",
      "10 --> Isaiah\n",
      "11 --> Adam Dalgliesh\n",
      "12 --> Potiphar\n",
      "13 --> Tokyo\n",
      "14 --> India\n",
      "15 --> Haiti\n",
      "16 --> Finding Nemo\n",
      "17 --> Muhammad\n",
      "18 --> Sean Combs\n",
      "19 --> Brooklyn\n",
      "20 --> the Yellow River\n"
     ]
    }
   ],
   "source": [
    "# iterat through results \n",
    "print(\"id --> name\\n----------------\")\n",
    "for result in results:\n",
    "    print(result[0],\"-->\",result[1])\n"
   ]
  },
  {
   "cell_type": "markdown",
   "metadata": {},
   "source": [
    "## 6. Script to query full set of categories for a game. "
   ]
  },
  {
   "cell_type": "code",
   "execution_count": 20,
   "metadata": {},
   "outputs": [
    {
     "name": "stdout",
     "output_type": "stream",
     "text": [
      "Categories for game #1675\n",
      "Round 0: MAMMALS\n",
      "Round 0: LEADING MEN\n",
      "Round 0: LANGUAGE\n",
      "Round 0: QUOTATIONS\n",
      "Round 0: GENESIS\n",
      "Round 0: BEFORE & AFTER\n",
      "Round 1: PRESIDENTS ON THE MOVE\n",
      "Round 1: \"LOVE\" SONGS\n",
      "Round 1: WORLD CITIES\n",
      "Round 1: WHY, I OTTO...\n",
      "Round 1: POTENT POTABLES\n",
      "Round 1: RHYME TIME\n",
      "Round 2: SCULPTURE\n"
     ]
    }
   ],
   "source": [
    "# import sqlite3 library \n",
    "import sqlite3\n",
    "\n",
    "# connect to jeopardy.db\n",
    "connection = sqlite3.connect('jeopardy.db')\n",
    "\n",
    "cursor = connection.cursor()\n",
    "\n",
    "# get a random game\n",
    "cursor.execute(\"SELECT game FROM category ORDER BY RANDOM() LIMIT 1\")\n",
    "results = cursor.fetchall()\n",
    "\n",
    "# get the game id\n",
    "game_id = results[0][0]\n",
    "print(\"Categories for game #%d\" %(game_id))\n",
    "\n",
    "# get the categories for the game \n",
    "query = \"SELECT name, round FROM category WHERE game=%d ORDER BY round\"%(game_id,)\n",
    "cursor.execute(query)\n",
    "results = cursor.fetchall()\n",
    "for result in results:\n",
    "    name, round = result \n",
    "    print(\"Round %d: %s\" %(round, name))\n"
   ]
  },
  {
   "cell_type": "code",
   "execution_count": 21,
   "metadata": {
    "collapsed": true
   },
   "outputs": [],
   "source": [
    "connection.close()"
   ]
  },
  {
   "cell_type": "code",
   "execution_count": null,
   "metadata": {
    "collapsed": true
   },
   "outputs": [],
   "source": []
  }
 ],
 "metadata": {
  "kernelspec": {
   "display_name": "Python 3",
   "language": "python",
   "name": "python3"
  },
  "language_info": {
   "codemirror_mode": {
    "name": "ipython",
    "version": 3
   },
   "file_extension": ".py",
   "mimetype": "text/x-python",
   "name": "python",
   "nbconvert_exporter": "python",
   "pygments_lexer": "ipython3",
   "version": "3.6.1"
  }
 },
 "nbformat": 4,
 "nbformat_minor": 2
}
